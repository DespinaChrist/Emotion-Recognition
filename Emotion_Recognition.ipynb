{
  "nbformat": 4,
  "nbformat_minor": 0,
  "metadata": {
    "colab": {
      "provenance": [],
      "mount_file_id": "1C9EloE866SuEaXBqoDQVczR9iUsyOfCC",
      "authorship_tag": "ABX9TyOXLBoQKeCjFrvcn5LZ+ypr",
      "include_colab_link": true
    },
    "kernelspec": {
      "name": "python3",
      "display_name": "Python 3"
    },
    "language_info": {
      "name": "python"
    }
  },
  "cells": [
    {
      "cell_type": "markdown",
      "metadata": {
        "id": "view-in-github",
        "colab_type": "text"
      },
      "source": [
        "<a href=\"https://colab.research.google.com/github/DespinaChrist/Emotion-Recognition/blob/main/Emotion_Recognition.ipynb\" target=\"_parent\"><img src=\"https://colab.research.google.com/assets/colab-badge.svg\" alt=\"Open In Colab\"/></a>"
      ]
    },
    {
      "cell_type": "markdown",
      "source": [
        "# Emotion Recognition\n",
        "\n",
        "\n",
        "\n",
        "> Μηχανική Μάθηση \\\n",
        "2023 - 2024 \\\n",
        "Χριστοδούλου Δέσποινα \\\n",
        "ics22126\n",
        "\n"
      ],
      "metadata": {
        "id": "OrsV1Wwg-4HB"
      }
    },
    {
      "cell_type": "code",
      "execution_count": 2,
      "metadata": {
        "id": "wOoXTqSY-t4T"
      },
      "outputs": [],
      "source": [
        "import numpy as np\n",
        "import pandas as pd\n",
        "import matplotlib.pyplot as plt"
      ]
    },
    {
      "cell_type": "markdown",
      "source": [
        "## Dataset\n",
        "Steven R. Livingstone, &amp; Frank A. Russo. (2019). <i>RAVDESS Emotional speech audio</i> [Data set]. Kaggle. https://doi.org/10.34740/KAGGLE/DSV/256618"
      ],
      "metadata": {
        "id": "2FD6uPbuAuc8"
      }
    },
    {
      "cell_type": "code",
      "source": [
        "data_path = \"/content/drive/MyDrive/Colab Notebooks/Απαλλακτική Εργασία/raw-data\""
      ],
      "metadata": {
        "id": "DPeOkulb-0F9"
      },
      "execution_count": null,
      "outputs": []
    },
    {
      "cell_type": "code",
      "source": [],
      "metadata": {
        "id": "Xkrvuu3k-0WF"
      },
      "execution_count": null,
      "outputs": []
    }
  ]
}